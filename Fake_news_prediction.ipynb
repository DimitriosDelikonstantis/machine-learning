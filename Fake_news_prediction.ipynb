{
 "cells": [
  {
   "cell_type": "markdown",
   "id": "quantitative-saver",
   "metadata": {},
   "source": [
    "The dataset can be downloaded [here](https://drive.google.com/file/d/1yCe4uyIWUq_cJ9eoFK__KdtoRubrZtx5/view?usp=sharing)\n",
    "\n",
    "The dataset was retrieved from [kaggle](https://www.kaggle.com/c/fake-news/data)\n"
   ]
  },
  {
   "cell_type": "code",
   "execution_count": 1,
   "id": "simplified-speaking",
   "metadata": {},
   "outputs": [],
   "source": [
    "import itertools\n",
    "import pandas as pd\n",
    "import numpy as np\n",
    "from matplotlib import pyplot\n",
    "from sklearn import svm\n",
    "from sklearn.naive_bayes import GaussianNB, MultinomialNB\n",
    "from sklearn.linear_model import PassiveAggressiveClassifier, LogisticRegression, Perceptron\n",
    "from sklearn.discriminant_analysis import LinearDiscriminantAnalysis\n",
    "from sklearn.tree import DecisionTreeClassifier\n",
    "from sklearn.neighbors import KNeighborsClassifier\n",
    "from sklearn.model_selection import train_test_split, KFold, cross_val_predict, RepeatedKFold\n",
    "from sklearn.feature_extraction.text import TfidfVectorizer, CountVectorizer\n",
    "from sklearn.metrics import accuracy_score, confusion_matrix, f1_score, roc_curve, roc_auc_score, precision_score, recall_score, precision_recall_curve, auc"
   ]
  },
  {
   "cell_type": "code",
   "execution_count": 2,
   "id": "lesbian-bicycle",
   "metadata": {},
   "outputs": [],
   "source": [
    "# Import dataset in a dataframe\n",
    "# Pandas.read_csv reads a comma-separated values (csv) file into dataframe and returns a two-dimensional data structure with labeled axes.\n",
    "dataframe = pd.read_csv(r'C:\\Users\\dimde\\Documents\\University of Piraeus - MSc in Artificial Intelligence\\Courses\\First semester\\Machine learning\\Assignments\\Machine learning\\Fake news\\Dataset\\train.csv')"
   ]
  },
  {
   "cell_type": "markdown",
   "id": "suburban-collectible",
   "metadata": {},
   "source": [
    "Reads a comma-separated values (csv) file into Dataframe and returns a two-dimensional data structure with labeled axes."
   ]
  },
  {
   "cell_type": "code",
   "execution_count": 3,
   "id": "offensive-filename",
   "metadata": {},
   "outputs": [
    {
     "name": "stdout",
     "output_type": "stream",
     "text": [
      "Dataframe shape:  (20800, 5) \n",
      "\n",
      "Dataframe axes:  [RangeIndex(start=0, stop=20800, step=1), Index(['id', 'title', 'author', 'text', 'label'], dtype='object')] \n",
      "\n",
      "Dataframe dtypes:  id         int64\n",
      "title     object\n",
      "author    object\n",
      "text      object\n",
      "label      int64\n",
      "dtype: object \n",
      "\n",
      "Dataframe size:  104000 \n",
      "\n",
      "Dataframe head:  \n",
      "    id                                              title  \\\n",
      "0   0  House Dem Aide: We Didn’t Even See Comey’s Let...   \n",
      "1   1  FLYNN: Hillary Clinton, Big Woman on Campus - ...   \n",
      "2   2                  Why the Truth Might Get You Fired   \n",
      "3   3  15 Civilians Killed In Single US Airstrike Hav...   \n",
      "4   4  Iranian woman jailed for fictional unpublished...   \n",
      "5   5  Jackie Mason: Hollywood Would Love Trump if He...   \n",
      "6   6  Life: Life Of Luxury: Elton John’s 6 Favorite ...   \n",
      "7   7  Benoît Hamon Wins French Socialist Party’s Pre...   \n",
      "8   8  Excerpts From a Draft Script for Donald Trump’...   \n",
      "9   9  A Back-Channel Plan for Ukraine and Russia, Co...   \n",
      "\n",
      "                         author  \\\n",
      "0                 Darrell Lucus   \n",
      "1               Daniel J. Flynn   \n",
      "2            Consortiumnews.com   \n",
      "3               Jessica Purkiss   \n",
      "4                Howard Portnoy   \n",
      "5               Daniel Nussbaum   \n",
      "6                           NaN   \n",
      "7               Alissa J. Rubin   \n",
      "8                           NaN   \n",
      "9  Megan Twohey and Scott Shane   \n",
      "\n",
      "                                                text  label  \n",
      "0  House Dem Aide: We Didn’t Even See Comey’s Let...      1  \n",
      "1  Ever get the feeling your life circles the rou...      0  \n",
      "2  Why the Truth Might Get You Fired October 29, ...      1  \n",
      "3  Videos 15 Civilians Killed In Single US Airstr...      1  \n",
      "4  Print \\nAn Iranian woman has been sentenced to...      1  \n",
      "5  In these trying times, Jackie Mason is the Voi...      0  \n",
      "6  Ever wonder how Britain’s most iconic pop pian...      1  \n",
      "7  PARIS  —   France chose an idealistic, traditi...      0  \n",
      "8  Donald J. Trump is scheduled to make a highly ...      0  \n",
      "9  A week before Michael T. Flynn resigned as nat...      0   \n",
      "\n"
     ]
    }
   ],
   "source": [
    "# Get dataframe information\n",
    "# Represents the dimensionality of the dataframe\n",
    "print('Dataframe shape: ', dataframe.shape, '\\n')\n",
    "# Represents the axes of the dataframe\n",
    "print('Dataframe axes: ', dataframe.axes, '\\n')\n",
    "# Returns the dtypes in the dataframe\n",
    "print('Dataframe dtypes: ', dataframe.dtypes, '\\n')\n",
    "# Returns an int representing the number of elements in the dataframe\n",
    "print('Dataframe size: ', dataframe.size, '\\n')\n",
    "# Returns the first 10 rows of the dataframe\n",
    "print('Dataframe head: ', '\\n', dataframe.head(10), '\\n')"
   ]
  },
  {
   "cell_type": "markdown",
   "id": "yellow-positive",
   "metadata": {},
   "source": [
    "Above we retrieve some information of the dataframe.\n",
    "\n",
    "Firstly, we retrieve the dimensionality of the dataframe. Our dataset has 5 features and 20800 samples.\n",
    "\n",
    "Then, we get the features of the dataframe. The 5 features are 'id', 'title', 'author', 'text' and 'label'.\n",
    "\n",
    "Additionally, we extract the dataframe feature sample types (object).\n",
    "\n",
    "Furthermore, we retrieve the dataframe size. This is the number of elements in the dataframe.\n",
    "\n",
    "Last but not least, with dataframe.head we view the first 10 rows of the dataframe for analyzation.\n",
    "\n",
    "Feature description:\n",
    "\n",
    "* **id**: indicates the index of the article (from 0 to 20799, in total 20800 feature vectors/samples).\n",
    "\n",
    "* **title**: indicates the title of the article.\n",
    "\n",
    "* **author**: indicates the author of the article.\n",
    "\n",
    "* **text**: indicates the actual main body of the article.\n",
    "\n",
    "* **label**: indicates if the article is fake or not. Value is 0 if the article represents real information and value is 1 if the article represents fake information.\n",
    "\n",
    "The features that are going to be examined are the features **label** and **text**."
   ]
  },
  {
   "cell_type": "code",
   "execution_count": 4,
   "id": "precious-fitness",
   "metadata": {},
   "outputs": [],
   "source": [
    "# Convert the 0, 1 labels to 'REAL' and 'FAKE' for simplicity\n",
    "# With Dataframe.loc set value for an entire column\n",
    "dataframe.loc[(dataframe['label'] == 1) , ['label']] = 'FAKE'\n",
    "dataframe.loc[(dataframe['label'] == 0) , ['label']] = 'REAL'"
   ]
  },
  {
   "cell_type": "markdown",
   "id": "numeric-pharmacy",
   "metadata": {},
   "source": [
    "For our better visualization convert feature label values \"0\" to \"REAL\" and \"1\" to \"FAKE\". This is only done for comprehension."
   ]
  },
  {
   "cell_type": "code",
   "execution_count": 5,
   "id": "turkish-fantasy",
   "metadata": {},
   "outputs": [
    {
     "name": "stdout",
     "output_type": "stream",
     "text": [
      "Converted dataframe head:  \n",
      "    id                                              title  \\\n",
      "0   0  House Dem Aide: We Didn’t Even See Comey’s Let...   \n",
      "1   1  FLYNN: Hillary Clinton, Big Woman on Campus - ...   \n",
      "2   2                  Why the Truth Might Get You Fired   \n",
      "3   3  15 Civilians Killed In Single US Airstrike Hav...   \n",
      "4   4  Iranian woman jailed for fictional unpublished...   \n",
      "5   5  Jackie Mason: Hollywood Would Love Trump if He...   \n",
      "6   6  Life: Life Of Luxury: Elton John’s 6 Favorite ...   \n",
      "7   7  Benoît Hamon Wins French Socialist Party’s Pre...   \n",
      "8   8  Excerpts From a Draft Script for Donald Trump’...   \n",
      "9   9  A Back-Channel Plan for Ukraine and Russia, Co...   \n",
      "\n",
      "                         author  \\\n",
      "0                 Darrell Lucus   \n",
      "1               Daniel J. Flynn   \n",
      "2            Consortiumnews.com   \n",
      "3               Jessica Purkiss   \n",
      "4                Howard Portnoy   \n",
      "5               Daniel Nussbaum   \n",
      "6                           NaN   \n",
      "7               Alissa J. Rubin   \n",
      "8                           NaN   \n",
      "9  Megan Twohey and Scott Shane   \n",
      "\n",
      "                                                text label  \n",
      "0  House Dem Aide: We Didn’t Even See Comey’s Let...  FAKE  \n",
      "1  Ever get the feeling your life circles the rou...  REAL  \n",
      "2  Why the Truth Might Get You Fired October 29, ...  FAKE  \n",
      "3  Videos 15 Civilians Killed In Single US Airstr...  FAKE  \n",
      "4  Print \\nAn Iranian woman has been sentenced to...  FAKE  \n",
      "5  In these trying times, Jackie Mason is the Voi...  REAL  \n",
      "6  Ever wonder how Britain’s most iconic pop pian...  FAKE  \n",
      "7  PARIS  —   France chose an idealistic, traditi...  REAL  \n",
      "8  Donald J. Trump is scheduled to make a highly ...  REAL  \n",
      "9  A week before Michael T. Flynn resigned as nat...  REAL   \n",
      "\n"
     ]
    }
   ],
   "source": [
    "# Visualize the head again to check the label changes\n",
    "print('Converted dataframe head: ', '\\n', dataframe.head(10), '\\n')"
   ]
  },
  {
   "cell_type": "markdown",
   "id": "abroad-vector",
   "metadata": {},
   "source": [
    "Now the feature label presents the 0 values with \"REAL\" and the 1 values with \"FAKE\"."
   ]
  },
  {
   "cell_type": "code",
   "execution_count": 6,
   "id": "german-tuition",
   "metadata": {},
   "outputs": [
    {
     "name": "stdout",
     "output_type": "stream",
     "text": [
      "<bound method NDFrame.head of 0        FAKE\n",
      "1        REAL\n",
      "2        FAKE\n",
      "3        FAKE\n",
      "4        FAKE\n",
      "         ... \n",
      "20795    REAL\n",
      "20796    REAL\n",
      "20797    REAL\n",
      "20798    FAKE\n",
      "20799    FAKE\n",
      "Name: label, Length: 20800, dtype: object>\n",
      "<bound method NDFrame.head of 0        House Dem Aide: We Didn’t Even See Comey’s Let...\n",
      "1        Ever get the feeling your life circles the rou...\n",
      "2        Why the Truth Might Get You Fired October 29, ...\n",
      "3        Videos 15 Civilians Killed In Single US Airstr...\n",
      "4        Print \\nAn Iranian woman has been sentenced to...\n",
      "                               ...                        \n",
      "20795    Rapper T. I. unloaded on black celebrities who...\n",
      "20796    When the Green Bay Packers lost to the Washing...\n",
      "20797    The Macy’s of today grew from the union of sev...\n",
      "20798    NATO, Russia To Hold Parallel Exercises In Bal...\n",
      "20799      David Swanson is an author, activist, journa...\n",
      "Name: text, Length: 20800, dtype: object>\n"
     ]
    }
   ],
   "source": [
    "# Isolate the text and label feature columns from the rest of the dataframe\n",
    "labels = dataframe.label\n",
    "labels.head()\n",
    "print(labels.head)\n",
    "text = dataframe.text\n",
    "text.head()\n",
    "print(text.head)"
   ]
  },
  {
   "cell_type": "markdown",
   "id": "brave-indonesian",
   "metadata": {},
   "source": [
    "Isolate the text and label from the dataframe so that we use it for classification."
   ]
  },
  {
   "cell_type": "code",
   "execution_count": 7,
   "id": "personalized-hearing",
   "metadata": {},
   "outputs": [],
   "source": [
    "# Custom stop words list\n",
    "stop_words_list = ['a, the, of, this, that', 'him', 'well', 'if', 'until']\n",
    "\n",
    "# Initialize a TfidfVectorizer\n",
    "# Tested for many different case scenarios\n",
    "tfidf_vectorizer = TfidfVectorizer(stop_words = 'english', max_df = 0.7, max_features = 1000)"
   ]
  },
  {
   "cell_type": "markdown",
   "id": "maritime-module",
   "metadata": {},
   "source": [
    "## Bag-of-words model\n",
    "The **bag-of-words** model is a method of representing text data when modeling text with machine learning algorithms. It is easy to comprehend and implement and has seen huge success in applications such as language modeling and document classification.\n",
    "\n",
    "An issue with modeling text is that it is disorganized, and methods like machine learning algorithms fancy defined fixed-length inputs and outputs. Since machine learning algorithms cannot operate with text directly, the text must be changed into vectors of numbers. Therefore we do feature encoding with the bag-of-words model of text. It is a well liked and plain method of feature encoding with text.\n",
    "\n",
    "The method is simple and adaptable and can be used in a lot of ways for pulling out features from documents. A bag-of-words is a representation of text that describes the occurrence of words within a document. It involves two things:\n",
    "* A vocabulary of known words.\n",
    "* A measure of the presence of known words.\n",
    "\n",
    "The order of occurrence is not important. We only care about whether known words occur in the document. The bag-of-words approach, looks at the histogram of the words within the text.\n",
    "\n",
    "The objective is to transform each document of free text into a vector that we can use as input or output for a machine learning model. The simplest scoring method is to mark the presence of words as 0 for absent, and 1 for present. New documents that overlap with the vocabulary of known words, but may include words outside of the vocabulary, can still be encoded, where only the occurrence of known words are scored and unknown words are ignored.\n",
    "\n",
    "In this assignment each article is a \"document\" and all of the articles together are the entire corpus of \"documents\". An entire corpus of documents can thus be represented by a matrix with one row per document and one column per token (e.g. word) occurring in the corpus.\n",
    "\n",
    "For a very large corpus, such as thousands of books, the length of the vector might be thousands or millions of positions. Furthermore, each document may include very few of the known words in the vocabulary. This results in a vector with lots of zero scores, called a sparse vector or sparse representation. Sparse vectors require more memory and computational resources when modeling and the vast number of positions or dimensions can make the modeling process very challenging for traditional algorithms. Therefore, there is need to decrease the size of the vocabulary when using a bag-of-words model.\n",
    "\n",
    "There are some techniques that can be used as a first step to reduce the size of the vocabulary. For example:\n",
    "* ignoring uppercase and lowercase in words.\n",
    "* ignoring punctuation.\n",
    "* ignoring frequent words that don’t contain much information (called stop words) like \"a\", \"of\", \"him\", \"the\".\n",
    "* fixing misspelled words.\n",
    "* reducing words to their stem using stemming algorithms (for example \"use\" from \"using\").\n",
    "\n",
    "A more sophisticated approach is to create a vocabulary of grouped words. This changes the scope of the vocabulary and also allows the bag-of-words to capture somewhat more meaning from the document. By doing this, each word or token is called a **gram**. Creating a vocabulary of two-word pairs is called a **2-gram model** or a **bigram model**. As a result, only the bigrams that appear in the corpus are modeled, not all possible bigrams. A **3-gram model** or a **trigram** is a three-word sequence of words. The general approach is called the **n-gram model**, where n refers to the number of grouped words. Often a simple bigram approach is better than a 1-gram bag-of-words model for tasks like documentation classification.\n",
    "\n",
    "Once a vocabulary method has been chosen, the occurrence of words in the documents needs to be scored. As mentioned earlier, the simplest scoring method is **binary scoring** which marks the presence of words as 0 for absent, and 1 for present. Another scoring method is **counts**, which counts the number of times each word appears in a document. Additionally, **frequencies** scoring method calculates the frequency that each word appears in a document out of all the words in the document.\n",
    "\n",
    "Feature hashing is when known words use a hash representation in the vocabulary. This addresses the problem of having a very large vocabulary for a large text corpus because then the size of the hash space can be defined, which is in turn the size of the vector representation of the document. Words are hashed deterministically to the same integer index in the target hash space. A binary score or count can then be used to score the word. The challenge is to choose a hash space to accommodate the chosen vocabulary size to minimize the probability of collisions and trade-off sparsity.\n",
    "\n",
    "## TF-IDF\n",
    "A problem with scoring word frequency is that highly frequent words start to dominate in the document (for example, larger score), but may not contain as much \"information\" to the model as more rare but perhaps domain specific words.\n",
    "\n",
    "One approach is to rescale the frequency of words by how often they appear in entire corpus of documents, so that the scores for frequent words like \"the\" that are also frequent across all documents are penalized. This approach to scoring is called \"Term Frequency–Inverse Document Frequency\", or TF-IDF for short, where:\n",
    "* Term Frequency is a scoring of the frequency of the word in the current document.\n",
    "* Inverse Document Frequency is a scoring of how rare the word is across documents.\n",
    "\n",
    "The scores are a weighting where not all words are equally as important or interesting. The scores have the effect of highlighting words that are distinct (contain useful information) in a given document. Thus, the IDF of a rare term is high, whereas the IDF of a frequent term is likely to be low.\n",
    "\n",
    "The bag-of-words model is very simple to understand and implement and offers a lot of flexibility for customization on specific text data. It has been used with great success on prediction problems like language modeling and documentation classification. Nevertheless, it suffers from some drawbacks, such as:\n",
    "* Vocabulary: The vocabulary requires careful design, most specifically in order to manage the size, which impacts the sparsity of the document representations.\n",
    "* Sparsity: Sparse representations are harder to model both for computational reasons (space and time complexity) and also for information reasons, where the challenge is for the models to harness so little information in such a large representational space.\n",
    "* Meaning: Discarding word order ignores the context, and in turn meaning of words in the document (semantics). Context and meaning can offer a lot to the model, that if modeled could tell the difference between the same words differently arranged (“this is interesting” as opposed to “is this interesting”), synonyms (“old bike” vs “used bike”), and many more semantics.\n"
   ]
  },
  {
   "cell_type": "code",
   "execution_count": 8,
   "id": "checked-colorado",
   "metadata": {},
   "outputs": [
    {
     "name": "stdout",
     "output_type": "stream",
     "text": [
      "TfidfVectorizer number of features:  1000 \n",
      "\n",
      "TfidfVectorizer stop words:  \n",
      " frozenset({'hereupon', 'them', 'as', 'name', 'seemed', 'ours', 'here', 'my', 'i', 'wherein', 'inc', 'last', 'themselves', 'beyond', 'together', 'next', 'only', 'therefore', 'co', 'no', 'else', 'latter', 'but', 'system', 'never', 'others', 'after', 'on', 'indeed', 'former', 'to', 'some', 'one', 'towards', 'ie', 'until', 'each', 'top', 'namely', 'afterwards', 'are', 'there', 'part', 'what', 'thereafter', 'am', 'anyway', 'mine', 'everyone', 'front', 'yourself', 'well', 'forty', 'then', 'can', 'being', 'nine', 'every', 'the', 'before', 'everything', 'may', 'beforehand', 'since', 'he', 'is', 'why', 'whither', 're', 'had', 'least', 'have', 'anyone', 'when', 'thereby', 'side', 'these', 'became', 'without', 'first', 'always', 'most', 'cannot', 'interest', 'however', 'into', 'same', 'though', 'those', 'ten', 'yours', 'also', 'behind', 'toward', 'around', 'amongst', 'hereby', 'more', 'twenty', 'ever', 'us', 'eight', 'keep', 'un', 'many', 'all', 'whereas', 'much', 'ltd', 'over', 'nowhere', 'by', 'against', 'show', 'very', 'she', 'few', 'still', 'hasnt', 'otherwise', 'must', 'has', 'either', 'once', 'could', 'seems', 'see', 'where', 'bill', 'couldnt', 'down', 'etc', 'whole', 'were', 'whatever', 'sincere', 'again', 'how', 'own', 'becoming', 'herself', 'ourselves', 'somewhere', 'whoever', 'his', 'wherever', 'latterly', 'along', 'bottom', 'any', 'de', 'detail', 'noone', 'fifteen', 'another', 'per', 'almost', 'its', 'during', 'becomes', 'onto', 'alone', 'fill', 'neither', 'or', 'might', 'often', 'hundred', 'yet', 'thereupon', 'moreover', 'be', 'our', 'through', 'hers', 'already', 'her', 'eleven', 'call', 'get', 'serious', 'yourselves', 'thus', 'anyhow', 'whereby', 'nevertheless', 'sixty', 'fire', 'that', 'now', 'in', 'it', 'thin', 'several', 'six', 'throughout', 'myself', 'three', 'such', 'an', 'everywhere', 'perhaps', 'five', 'twelve', 'two', 'someone', 'will', 'sometime', 'off', 'do', 'empty', 'full', 'me', 'their', 'whether', 'across', 'thence', 'him', 'a', 'upon', 'mostly', 'of', 'cant', 'out', 'they', 'something', 'put', 'made', 'while', 'your', 'for', 'move', 'sometimes', 'formerly', 'which', 'was', 'both', 'we', 'cry', 'who', 'from', 'at', 'under', 'been', 'find', 'except', 'back', 'whom', 'too', 'four', 'within', 'enough', 'among', 'so', 'although', 'anything', 'due', 'third', 'hereafter', 'amoungst', 'seeming', 'should', 'if', 'con', 'himself', 'hence', 'beside', 'nobody', 'via', 'eg', 'become', 'thick', 'meanwhile', 'less', 'would', 'please', 'because', 'give', 'with', 'found', 'none', 'seem', 'even', 'therein', 'whose', 'fifty', 'take', 'go', 'describe', 'not', 'below', 'you', 'herein', 'above', 'this', 'about', 'other', 'nothing', 'done', 'thru', 'elsewhere', 'whenever', 'nor', 'mill', 'up', 'whence', 'whereafter', 'further', 'whereupon', 'besides', 'rather', 'somehow', 'itself', 'than', 'anywhere', 'amount', 'between', 'and'}) \n",
      "\n"
     ]
    }
   ],
   "source": [
    "# Fit the text feature set to TfidfVectorizer\n",
    "tfidf = tfidf_vectorizer.fit_transform(text.values.astype('str'))\n",
    "\n",
    "# View vocabulary length (features)\n",
    "vocabulary_len = len(tfidf_vectorizer.get_feature_names())\n",
    "print('TfidfVectorizer number of features: ', vocabulary_len, '\\n')\n",
    "\n",
    "# Visualize the stop words used by TfidfVectorizer\n",
    "stop_words_len = tfidf_vectorizer.get_stop_words()\n",
    "print('TfidfVectorizer stop words: ', '\\n', stop_words_len, '\\n')"
   ]
  },
  {
   "cell_type": "markdown",
   "id": "sonic-bacon",
   "metadata": {},
   "source": [
    "Fit the text feature set on the TfidfVectorizer. The text is converted to vectors of numbers and now can be used by classifiers for prediction.\n",
    "\n",
    "Get the tfidfvectorizer features and visualize the stop words."
   ]
  },
  {
   "cell_type": "code",
   "execution_count": 9,
   "id": "maritime-conditioning",
   "metadata": {},
   "outputs": [],
   "source": [
    "# Split the dataset with train_test_split\n",
    "#x_train,x_test,y_train,y_test = train_test_split(tfidf, labels, test_size = 0.2, random_state = 7)\n",
    "\n",
    "# Split the data and cross validate with RepeatedKFold\n",
    "rkf = RepeatedKFold(n_splits=5, n_repeats=10, random_state=0)\n",
    "for i_train, i_test in rkf.split(tfidf, labels):\n",
    "    x_train = tfidf[i_train, :]\n",
    "    y_train = labels[i_train]\n",
    "    x_test = tfidf[i_test, :]\n",
    "    y_test = labels[i_test]"
   ]
  },
  {
   "cell_type": "markdown",
   "id": "charged-locator",
   "metadata": {},
   "source": [
    "Initially, train_test_split was used for spliting the dataset and allocating the train and test set percentages. But we can't know for sure that the split that is done by train_test_split is unbiased. What if one of the subsets of data has only articles written by a specific author? This would result in overfitting.\n",
    "\n",
    "To avoid this RepeatedKFold was used to split the data into spits of 5. This way we are more confident than before that the results will be unbiased."
   ]
  },
  {
   "cell_type": "code",
   "execution_count": 10,
   "id": "terminal-emphasis",
   "metadata": {
    "scrolled": true
   },
   "outputs": [],
   "source": [
    "# Initialize the LogisticRegression classifier and fit training sets\n",
    "lr_classifier = LogisticRegression()\n",
    "lr_classifier.fit(x_train, y_train)\n",
    "# Get probability estimates for the x_test\n",
    "cl_probs = lr_classifier.predict_proba(x_test)\n",
    "cl_probs = cl_probs[:, 1]\n",
    "# Predict with Logistic Regression classifier\n",
    "y_pred = lr_classifier.predict(x_test)"
   ]
  },
  {
   "cell_type": "markdown",
   "id": "green-jurisdiction",
   "metadata": {},
   "source": [
    "Fit the data and predict with the logistic regression classifier.\n",
    "\n",
    "Extract the probability estimate for label 'FAKE' to use it for the ROC curve."
   ]
  },
  {
   "cell_type": "code",
   "execution_count": 11,
   "id": "secondary-agreement",
   "metadata": {},
   "outputs": [
    {
     "name": "stdout",
     "output_type": "stream",
     "text": [
      "Accuracy:  93.79807692307692 % \n",
      "\n",
      "Confusion matrix: \n",
      " [[1965  111]\n",
      " [ 147 1937]] \n",
      "\n",
      "Precision:  0.94580078125 \n",
      "\n",
      "Recall:  0.9294625719769674 \n",
      "\n",
      "Specificity:  0.9465317919075145 \n",
      "\n",
      "False positive rate:  0.053468208092485536 \n",
      "\n",
      "F1-score:  0.9375605033881897 \n",
      "\n",
      "Random: ROC AUC = 0.5\n",
      "Classifier: ROC AUC = 0.9851467183680414\n"
     ]
    },
    {
     "data": {
      "image/png": "[encoded data removed]",
      "text/plain": [
       "<Figure size 432x288 with 1 Axes>"
      ]
     },
     "metadata": {
      "needs_background": "light"
     },
     "output_type": "display_data"
    },
    {
     "name": "stdout",
     "output_type": "stream",
     "text": [
      "Classifier: auc=  0.9859841692998391\n"
     ]
    },
    {
     "data": {
      "image/png": "[encoded data removed]",
      "text/plain": [
       "<Figure size 432x288 with 1 Axes>"
      ]
     },
     "metadata": {
      "needs_background": "light"
     },
     "output_type": "display_data"
    }
   ],
   "source": [
    "# Metrics\n",
    "# Calculate accuracy: (tp + tn) / (tp + tn + fp + fn)\n",
    "# Accuracy = Number of correct predictions / Total number of predictions\n",
    "Accuracy = accuracy_score(y_test, y_pred)\n",
    "print('Accuracy: ', Accuracy * 100,'%', '\\n')\n",
    "\n",
    "# Calculate confusion matrix table\n",
    "#           Actual class\n",
    "# Predicted [TP, FP]\n",
    "# class     [FN, TN]\n",
    "Conf_matrix = confusion_matrix(y_test, y_pred, labels = ['FAKE', 'REAL'])\n",
    "# Extract true negatives, false positives, false negatives and true positives from confusion matrix to calculate ROC curve\n",
    "tn, fp, fn, tp = confusion_matrix(y_test, y_pred).ravel()\n",
    "print('Confusion matrix: ' '\\n', Conf_matrix, '\\n')\n",
    "\n",
    "# Calculate precision: tp / (tp + fp)\n",
    "precision = tp / (tp + fp)\n",
    "print('Precision: ', precision, '\\n')\n",
    "\n",
    "# Calculate recall: tp / (tp + fn)\n",
    "# True positive rate / Sensitivity\n",
    "recall = tp / (tp + fn)\n",
    "print('Recall: ', recall, '\\n')\n",
    "\n",
    "# Calculate specificity: Tn / (Tn + Fp)\n",
    "specificity = tn / (tn + fp)\n",
    "print('Specificity: ', specificity, '\\n')\n",
    "\n",
    "#Calculate False positive rate\n",
    "False_positive_rate = 1 - specificity\n",
    "print('False positive rate: ', False_positive_rate, '\\n')\n",
    "\n",
    "# Calculate F1-score\n",
    "# F1 score is a weighted balance between precision and recall\n",
    "f1_score = 2 * (precision * recall) / (precision + recall)\n",
    "print('F1-score: ', f1_score, '\\n')\n",
    "\n",
    "# Calculate the ROC curve\n",
    "ns_probs = [0 for _ in range(len(y_test))]\n",
    "ns_auc = roc_auc_score(y_test, ns_probs)\n",
    "cl_auc = roc_auc_score(y_test, cl_probs)\n",
    "print('Random: ROC AUC =', ns_auc)\n",
    "print('Classifier: ROC AUC =', cl_auc)\n",
    "ns_fpr, ns_tpr, _ = roc_curve(y_test, ns_probs, pos_label = 'REAL')\n",
    "cl_fpr, cl_tpr, _ = roc_curve(y_test, cl_probs, pos_label = 'REAL')\n",
    "# Plot the ROC curve\n",
    "pyplot.plot(ns_fpr, ns_tpr, linestyle = '--', label = 'Random')\n",
    "pyplot.plot(cl_fpr, cl_tpr, marker = '.', label = 'Classifier')\n",
    "# Name axis labels\n",
    "pyplot.xlabel('False Positive Rate')\n",
    "pyplot.ylabel('True Positive Rate')\n",
    "# Show the legend\n",
    "pyplot.legend()\n",
    "# Show the plot\n",
    "pyplot.show()\n",
    "\n",
    "# Calculate the precision-recall curve\n",
    "cl_precision, cl_recall, _ = precision_recall_curve(y_test, cl_probs, pos_label = 'REAL')\n",
    "cl_auc = auc(cl_recall, cl_precision)\n",
    "print('Classifier: auc= ', cl_auc)\n",
    "# Plot the precision-recall curves\n",
    "random = len(y_test[y_test == 1]) / len(y_test)\n",
    "pyplot.plot([0, 1], [random, random], linestyle='--', label = 'Random')\n",
    "pyplot.plot(cl_recall, cl_precision, marker='.', label = 'Classifier')\n",
    "# Name axis labels\n",
    "pyplot.xlabel('Recall')\n",
    "pyplot.ylabel('Precision')\n",
    "# Show the legend\n",
    "pyplot.legend()\n",
    "# Show the plot\n",
    "pyplot.show()"
   ]
  },
  {
   "cell_type": "markdown",
   "id": "rapid-valuable",
   "metadata": {},
   "source": [
    "Metrics and results for logistic regression."
   ]
  },
  {
   "cell_type": "code",
   "execution_count": 12,
   "id": "computational-metallic",
   "metadata": {},
   "outputs": [],
   "source": [
    "# Initialize the Multinomial Naive Bayes classifier and fit training sets\n",
    "multinomialnb_classifier = MultinomialNB()\n",
    "multinomialnb_classifier.fit(x_train, y_train)\n",
    "# Get probability estimates for the x_test\n",
    "cl_probs = multinomialnb_classifier.predict_proba(x_test)\n",
    "cl_probs = cl_probs[:, 1]\n",
    "# Predict with Multinomial Naive Bayes classifier\n",
    "y_pred = multinomialnb_classifier.predict(x_test)"
   ]
  },
  {
   "cell_type": "markdown",
   "id": "designing-coaching",
   "metadata": {},
   "source": [
    "Fit the data and predict with the Naive Bayes classifier.\n",
    "\n",
    "Extract the probability estimate for label 'FAKE' to use it for the ROC curve."
   ]
  },
  {
   "cell_type": "code",
   "execution_count": 13,
   "id": "differential-halloween",
   "metadata": {},
   "outputs": [
    {
     "name": "stdout",
     "output_type": "stream",
     "text": [
      "Accuracy:  88.46153846153845 % \n",
      "\n",
      "Confusion matrix: \n",
      " [[1802  274]\n",
      " [ 206 1878]] \n",
      "\n",
      "Precision:  0.8726765799256505 \n",
      "\n",
      "Recall:  0.9011516314779271 \n",
      "\n",
      "Specificity:  0.8680154142581888 \n",
      "\n",
      "False positive rate:  0.13198458574181116 \n",
      "\n",
      "F1-score:  0.8866855524079319 \n",
      "\n",
      "Random: ROC AUC = 0.5\n",
      "Classifier: ROC AUC = 0.9535029715346582\n"
     ]
    },
    {
     "data": {
      "image/png": "[encoded data removed]",
      "text/plain": [
       "<Figure size 432x288 with 1 Axes>"
      ]
     },
     "metadata": {
      "needs_background": "light"
     },
     "output_type": "display_data"
    },
    {
     "name": "stdout",
     "output_type": "stream",
     "text": [
      "Classifier: auc=  0.9574183620961784\n"
     ]
    },
    {
     "data": {
      "image/png": "[encoded data removed]",
      "text/plain": [
       "<Figure size 432x288 with 1 Axes>"
      ]
     },
     "metadata": {
      "needs_background": "light"
     },
     "output_type": "display_data"
    }
   ],
   "source": [
    "# Metrics\n",
    "# Calculate accuracy: (tp + tn) / (tp + tn + fp + fn)\n",
    "# Accuracy = Number of correct predictions / Total number of predictions\n",
    "Accuracy = accuracy_score(y_test, y_pred)\n",
    "print('Accuracy: ', Accuracy * 100,'%', '\\n')\n",
    "\n",
    "# Calculate confusion matrix table\n",
    "#           Actual class\n",
    "# Predicted [TP, FP]\n",
    "# class     [FN, TN]\n",
    "Conf_matrix = confusion_matrix(y_test, y_pred, labels = ['FAKE', 'REAL'])\n",
    "# Extract true negatives, false positives, false negatives and true positives from confusion matrix to calculate ROC curve\n",
    "tn, fp, fn, tp = confusion_matrix(y_test, y_pred).ravel()\n",
    "print('Confusion matrix: ' '\\n', Conf_matrix, '\\n')\n",
    "\n",
    "# Calculate precision: tp / (tp + fp)\n",
    "precision = tp / (tp + fp)\n",
    "print('Precision: ', precision, '\\n')\n",
    "\n",
    "# Calculate recall: tp / (tp + fn)\n",
    "# True positive rate / Sensitivity\n",
    "recall = tp / (tp + fn)\n",
    "print('Recall: ', recall, '\\n')\n",
    "\n",
    "# Calculate specificity: Tn / (Tn + Fp)\n",
    "specificity = tn / (tn + fp)\n",
    "print('Specificity: ', specificity, '\\n')\n",
    "\n",
    "#Calculate False positive rate\n",
    "False_positive_rate = 1 - specificity\n",
    "print('False positive rate: ', False_positive_rate, '\\n')\n",
    "\n",
    "# Calculate F1-score\n",
    "# F1 score is a weighted balance between precision and recall\n",
    "f1_score = 2 * (precision * recall) / (precision + recall)\n",
    "print('F1-score: ', f1_score, '\\n')\n",
    "\n",
    "# Calculate the ROC curve\n",
    "ns_probs = [0 for _ in range(len(y_test))]\n",
    "ns_auc = roc_auc_score(y_test, ns_probs)\n",
    "cl_auc = roc_auc_score(y_test, cl_probs)\n",
    "print('Random: ROC AUC =', ns_auc)\n",
    "print('Classifier: ROC AUC =', cl_auc)\n",
    "ns_fpr, ns_tpr, _ = roc_curve(y_test, ns_probs, pos_label = 'REAL')\n",
    "cl_fpr, cl_tpr, _ = roc_curve(y_test, cl_probs, pos_label = 'REAL')\n",
    "# Plot the ROC curve\n",
    "pyplot.plot(ns_fpr, ns_tpr, linestyle = '--', label = 'Random')\n",
    "pyplot.plot(cl_fpr, cl_tpr, marker = '.', label = 'Classifier')\n",
    "# Name axis labels\n",
    "pyplot.xlabel('False Positive Rate')\n",
    "pyplot.ylabel('True Positive Rate')\n",
    "# Show the legend\n",
    "pyplot.legend()\n",
    "# Show the plot\n",
    "pyplot.show()\n",
    "\n",
    "# Calculate the precision-recall curve\n",
    "cl_precision, cl_recall, _ = precision_recall_curve(y_test, cl_probs, pos_label = 'REAL')\n",
    "cl_auc = auc(cl_recall, cl_precision)\n",
    "print('Classifier: auc= ', cl_auc)\n",
    "# Plot the precision-recall curves\n",
    "random = len(y_test[y_test == 1]) / len(y_test)\n",
    "pyplot.plot([0, 1], [random, random], linestyle='--', label = 'Random')\n",
    "pyplot.plot(cl_recall, cl_precision, marker='.', label = 'Classifier')\n",
    "# Name axis labels\n",
    "pyplot.xlabel('Recall')\n",
    "pyplot.ylabel('Precision')\n",
    "# Show the legend\n",
    "pyplot.legend()\n",
    "# Show the plot\n",
    "pyplot.show()"
   ]
  },
  {
   "cell_type": "markdown",
   "id": "radical-income",
   "metadata": {},
   "source": [
    "Metrics and results for Naive Bayes."
   ]
  }
 ],
 "metadata": {
  "kernelspec": {
   "display_name": "Python 3",
   "language": "python",
   "name": "python3"
  },
  "language_info": {
   "codemirror_mode": {
    "name": "ipython",
    "version": 3
   },
   "file_extension": ".py",
   "mimetype": "text/x-python",
   "name": "python",
   "nbconvert_exporter": "python",
   "pygments_lexer": "ipython3",
   "version": "3.9.1"
  }
 },
 "nbformat": 4,
 "nbformat_minor": 5
}
