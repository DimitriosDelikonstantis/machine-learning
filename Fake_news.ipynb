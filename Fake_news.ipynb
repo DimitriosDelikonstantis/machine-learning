{
 "cells": [
  {
   "cell_type": "code",
   "execution_count": 1,
   "id": "simplified-speaking",
   "metadata": {},
   "outputs": [
    {
     "name": "stdout",
     "output_type": "stream",
     "text": [
      "Accuracy: 96.51%\n",
      "Confusion matrix: \n",
      " [[2035   65]\n",
      " [  80 1980]]\n"
     ]
    }
   ],
   "source": [
    "import itertools\n",
    "import pandas as pd\n",
    "import numpy as np\n",
    "from sklearn.linear_model import PassiveAggressiveClassifier\n",
    "from sklearn.model_selection import train_test_split\n",
    "from sklearn.feature_extraction.text import TfidfVectorizer\n",
    "from sklearn.metrics import accuracy_score\n",
    "from sklearn.metrics import confusion_matrix\n",
    "\n",
    "\n",
    "# Import dataset\n",
    "df = pd.read_csv(r'C:\\Users\\dimde\\Documents\\University of Piraeus - MSc in Artificial Intelligence\\Courses\\First semester\\Machine learning\\Assignments\\Machine learning\\Fake news\\Dataset\\train.csv')\n",
    "\n",
    "# Get the shape\n",
    "df.shape\n",
    "#print(df.shape)\n",
    "\n",
    "# Get the head\n",
    "df.head()\n",
    "#print(df.head)\n",
    "\n",
    "# Convert the 0, 1 labels to 'REAL' and 'FAKE' for simplicity\n",
    "df.loc[(df['label'] == 1) , ['label']] = 'FAKE'\n",
    "df.loc[(df['label'] == 0) , ['label']] = 'REAL'\n",
    "\n",
    "# Isolate the labels from the rest of the dataframe\n",
    "labels = df.label\n",
    "labels.head()\n",
    "#print(labels.head())\n",
    "\n",
    "# Split the dataset\n",
    "#Test for different case scenarios\n",
    "# Test 1 -> 60% train, 40% test -> Accuracy: 95.82%\n",
    "#x_train,x_test,y_train,y_test=train_test_split(df['text'].values.astype('str'), labels, test_size=0.4, random_state=7)\n",
    "# Test 2 -> 65% train, 35% test -> Accuracy: 96.17%\n",
    "#x_train,x_test,y_train,y_test=train_test_split(df['text'].values.astype('str'), labels, test_size=0.35, random_state=7)\n",
    "# Test 3 -> 70% train, 30% test -> Accuracy: 95.99%\n",
    "#x_train,x_test,y_train,y_test=train_test_split(df['text'].values.astype('str'), labels, test_size=0.3, random_state=7)\n",
    "# Test 4 -> 75% train, 25% test -> Accuracy: 96.21%\n",
    "#x_train,x_test,y_train,y_test=train_test_split(df['text'].values.astype('str'), labels, test_size=0.25, random_state=7)\n",
    "# Test 5 -> 80% train, 20% test -> Accuracy: 96.56%\n",
    "x_train,x_test,y_train,y_test=train_test_split(df['text'].values.astype('str'), labels, test_size=0.2, random_state=7)\n",
    "# Test 6 -> 85% train, 15% test -> Accuracy: 96.19%\n",
    "#x_train,x_test,y_train,y_test=train_test_split(df['text'].values.astype('str'), labels, test_size=0.15, random_state=7)\n",
    "\n",
    "\n",
    "\n",
    "# Initialize a TfidfVectorizer\n",
    "tfidf_vectorizer=TfidfVectorizer(stop_words='english', max_df=0.7)\n",
    "\n",
    "# Fit & transform train set, transform test set\n",
    "tfidf_train=tfidf_vectorizer.fit_transform(x_train) \n",
    "tfidf_test=tfidf_vectorizer.transform(x_test)\n",
    "\n",
    "# Initialize the PassiveAggressiveClassifier and fit training sets\n",
    "pa_classifier=PassiveAggressiveClassifier(max_iter=50)\n",
    "pa_classifier.fit(tfidf_train,y_train)\n",
    "\n",
    "# Predict and calculate accuracy\n",
    "y_pred=pa_classifier.predict(tfidf_test)\n",
    "score=accuracy_score(y_test,y_pred)\n",
    "print(f'Accuracy: {round(score*100,2)}%')\n",
    "\n",
    "# Build confusion matrix\n",
    "Conf_matrix = confusion_matrix(y_test,y_pred, labels=['FAKE','REAL'])\n",
    "print('Confusion matrix: ' '\\n',  Conf_matrix)"
   ]
  },
  {
   "cell_type": "code",
   "execution_count": null,
   "id": "lesbian-bicycle",
   "metadata": {},
   "outputs": [],
   "source": []
  },
  {
   "cell_type": "code",
   "execution_count": null,
   "id": "offensive-filename",
   "metadata": {},
   "outputs": [],
   "source": []
  }
 ],
 "metadata": {
  "kernelspec": {
   "display_name": "Python 3",
   "language": "python",
   "name": "python3"
  },
  "language_info": {
   "codemirror_mode": {
    "name": "ipython",
    "version": 3
   },
   "file_extension": ".py",
   "mimetype": "text/x-python",
   "name": "python",
   "nbconvert_exporter": "python",
   "pygments_lexer": "ipython3",
   "version": "3.9.1"
  }
 },
 "nbformat": 4,
 "nbformat_minor": 5
}
